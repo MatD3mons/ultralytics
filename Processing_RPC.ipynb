{
 "cells": [
  {
   "cell_type": "code",
   "execution_count": 2,
   "metadata": {},
   "outputs": [],
   "source": [
    "import numpy as np\n",
    "import pandas as pd\n",
    "import json\n",
    "import os\n",
    "from PIL import Image\n",
    "\n",
    "import matplotlib.pyplot as plt\n",
    "from tqdm import tqdm\n",
    "\n",
    "%matplotlib inline"
   ]
  },
  {
   "cell_type": "code",
   "execution_count": 3,
   "metadata": {},
   "outputs": [],
   "source": [
    "def load_json(jfile):\n",
    "    with open(jfile, 'rb') as f:\n",
    "        return json.load(f)"
   ]
  },
  {
   "cell_type": "code",
   "execution_count": 30,
   "metadata": {},
   "outputs": [],
   "source": [
    "PATH = '/media/nas/BasesDeDonnees/retail_product_checkout/'\n",
    "#path = '../retail_product_checkout/'\n",
    "\n",
    "images_test = PATH+'test2019'\n",
    "images_train = PATH+'train2019'\n",
    "images_val = PATH+'val2019'\n",
    "\n",
    "test = PATH+'instances_test2019.json'\n",
    "train = PATH+'instances_train2019.json'\n",
    "val = PATH+'instances_val2019.json'\n",
    "\n",
    "test_data = load_json(test)\n",
    "train_data = load_json(train)\n",
    "val_data = load_json(val)"
   ]
  },
  {
   "cell_type": "code",
   "execution_count": 5,
   "metadata": {},
   "outputs": [],
   "source": [
    "import os\n",
    "\n",
    "paths = ['RPC',\n",
    "         'RPC/train',\n",
    "         'RPC/train/images',\n",
    "         'RPC/train/labels',\n",
    "         'RPC/test',\n",
    "         'RPC/test/images',\n",
    "         'RPC/test/labels',\n",
    "         'RPC/valid',\n",
    "         'RPC/valid/images',\n",
    "         'RPC/valid/labels',\n",
    "         'RPC/support',\n",
    "         'RPC/support/images']\n",
    "\n",
    "for path in paths:\n",
    "    if not os.path.exists(path):\n",
    "        os.mkdir(path)"
   ]
  },
  {
   "cell_type": "code",
   "execution_count": 6,
   "metadata": {},
   "outputs": [],
   "source": [
    "from PIL import Image, ImageOps\n",
    "\n",
    "def resize_with_padding(img, expected_size):\n",
    "    width, height = img.size\n",
    "    ratio = width / height\n",
    "    if width < height:\n",
    "        img = img.resize((int(ratio*expected_size[0]),int(expected_size[0])))\n",
    "    else:\n",
    "        img = img.resize((int(expected_size[1]),int((1/ratio)*expected_size[1])))\n",
    "        \n",
    "    img.thumbnail((expected_size[0], expected_size[1]))\n",
    "    delta_width = expected_size[0] - img.size[0]\n",
    "    delta_height = expected_size[1] - img.size[1]\n",
    "    pad_width = delta_width // 2\n",
    "    pad_height = delta_height // 2\n",
    "    padding = (pad_width, pad_height, delta_width - pad_width, delta_height - pad_height)\n",
    "    return ImageOps.expand(img, padding)\n"
   ]
  },
  {
   "attachments": {},
   "cell_type": "markdown",
   "metadata": {},
   "source": [
    "# PROCESSING LABEL"
   ]
  },
  {
   "cell_type": "code",
   "execution_count": 7,
   "metadata": {},
   "outputs": [
    {
     "name": "stderr",
     "output_type": "stream",
     "text": [
      "100%|██████████| 200/200 [00:45<00:00,  4.41it/s]\n"
     ]
    }
   ],
   "source": [
    "images_df = pd.DataFrame(train_data['images'])\n",
    "anns_df = pd.DataFrame(train_data['annotations'])\n",
    "category = pd.DataFrame(train_data['categories'])\n",
    "\n",
    "all = pd.merge(anns_df, images_df, left_on='image_id', right_on='id')\n",
    "\n",
    "def main():\n",
    "    for i in tqdm(range(len(category))):\n",
    "        id_list = (all.loc[anns_df['category_id'] == i+1])#prend tout les image de la catégorie X\n",
    "        id_list = id_list[id_list['file_name'].str.contains(\"camera1-11.jpg\")] # ( une face ,une back * 3 direction)\n",
    "        if(len(id_list) <= 8):\n",
    "            id_list = id_list.sort_values(by=['file_name'], ascending = True)\n",
    "        else:        \n",
    "            id_list =  id_list.sort_values(by=['file_name'], ascending = False)  \n",
    "\n",
    "        for index, row in id_list.iterrows():\n",
    "            xmin, ymin, width, height = row['bbox']\n",
    "            image = Image.open(images_train+'/'+row['file_name'])\n",
    "            #Crop for Label\n",
    "            image = image.crop((int(xmin), int(ymin), int(xmin+width), int(ymin+height)))\n",
    "            #Padding for (x,x)\n",
    "            img = resize_with_padding(image, (640,640)) #try with 64x64\n",
    "            #Save image\n",
    "            img.save('RPC/support/images/'+str(i+1)+'.png')\n",
    "main()"
   ]
  },
  {
   "attachments": {},
   "cell_type": "markdown",
   "metadata": {},
   "source": [
    "# PROCESSING IMAGE"
   ]
  },
  {
   "cell_type": "code",
   "execution_count": 8,
   "metadata": {},
   "outputs": [],
   "source": [
    "category = pd.DataFrame(test_data['categories'])\n",
    "\n",
    "images_df1 = pd.DataFrame(test_data['images'])\n",
    "anns_df1 = pd.DataFrame(test_data['annotations'])\n",
    "\n",
    "images_df2 = pd.DataFrame(val_data['images'])\n",
    "anns_df2 = pd.DataFrame(val_data['annotations'])\n",
    "\n",
    "images_df = pd.concat([images_df1, images_df2])\n",
    "anns_df = pd.concat([anns_df1,anns_df2])\n",
    "\n",
    "nb_category = len(category)"
   ]
  },
  {
   "cell_type": "code",
   "execution_count": 9,
   "metadata": {},
   "outputs": [
    {
     "data": {
      "text/plain": [
       "(367935, 13)"
      ]
     },
     "execution_count": 9,
     "metadata": {},
     "output_type": "execute_result"
    }
   ],
   "source": [
    "all = pd.merge(anns_df, images_df, left_on='image_id', right_on='id')\n",
    "all = all.sort_values(by=['category_id'])\n",
    "all.shape"
   ]
  },
  {
   "cell_type": "code",
   "execution_count": 10,
   "metadata": {},
   "outputs": [],
   "source": [
    "# plt.figure(figsize=(8,35))\n",
    "# result = pd.merge(all, category, how=\"outer\", left_on='category_id', right_on='id')\n",
    "# result['name'].value_counts().plot.barh()"
   ]
  },
  {
   "cell_type": "code",
   "execution_count": 11,
   "metadata": {},
   "outputs": [],
   "source": [
    "# test_merge = pd.merge(all, category, how=\"outer\", left_on='category_id', right_on='id')\n",
    "# result['supercategory'].value_counts().sort_index().plot.barh()"
   ]
  },
  {
   "cell_type": "code",
   "execution_count": 12,
   "metadata": {},
   "outputs": [
    {
     "name": "stdout",
     "output_type": "stream",
     "text": [
      "(200,)\n"
     ]
    }
   ],
   "source": [
    "#classes = np.arange(200)\n",
    "#np.random.shuffle(classes)\n",
    "# or export classes\n",
    "classes = np.array([192,13,55,48,141,85,36,195,150,187,6,97,148,183,135,89,198,74\n",
    ",42,197,95,62,10,43,188,189,30,59,171,76,193,28,100,58,143,91\n",
    ",67,79,26,32,146,176,70,96,75,144,133,190,145,18,164,104,7,1\n",
    ",165,138,181,178,33,158,114,105,21,186,3,174,159,41,69,117,110,185\n",
    ",12,175,82,54,24,92,72,119,157,77,194,128,122,121,113,180,87,52\n",
    ",103,20,152,71,4,136,125,151,80,172,170,156,63,154,45,0,160,35\n",
    ",112,46,90,107,109,51,14,106,37,83,168,101,5,81,53,22,9,137\n",
    ",163,177,124,31,179,19,116,134,27,57,126,78,118,15,120,167,142,196\n",
    ",147,131,23,86,68,38,184,166,65,39,139,84,34,127,47,140,199,94\n",
    ",66,108,173,44,191,182,130,64,40,11,73,123,149,129,161,155,99,61\n",
    ",93,169,50,153,8,162,132,16,2,115,88,56,98,25,49,102,111,17\n",
    ",60,29])\n",
    "classes += 1 # aucune classes 0, la première est 1 ^^\n",
    "print(classes.shape)"
   ]
  },
  {
   "cell_type": "code",
   "execution_count": 13,
   "metadata": {},
   "outputs": [
    {
     "name": "stdout",
     "output_type": "stream",
     "text": [
      "(160,)\n",
      "(40,)\n"
     ]
    }
   ],
   "source": [
    "print(classes[:160].shape)\n",
    "print(classes[160:].shape)"
   ]
  },
  {
   "cell_type": "code",
   "execution_count": 14,
   "metadata": {},
   "outputs": [
    {
     "name": "stdout",
     "output_type": "stream",
     "text": [
      "(295431, 13) (72504, 13)\n"
     ]
    }
   ],
   "source": [
    "TrainValid = all.loc[all['category_id'].isin(classes[:160])]\n",
    "Test = all.loc[all['category_id'].isin(classes[160:])]\n",
    "print(TrainValid.shape, Test.shape)"
   ]
  },
  {
   "cell_type": "code",
   "execution_count": 15,
   "metadata": {},
   "outputs": [
    {
     "name": "stdout",
     "output_type": "stream",
     "text": [
      "(200,)\n"
     ]
    }
   ],
   "source": [
    "print(all['category_id'].unique().shape)"
   ]
  },
  {
   "cell_type": "code",
   "execution_count": 16,
   "metadata": {},
   "outputs": [
    {
     "name": "stdout",
     "output_type": "stream",
     "text": [
      "(160,)\n",
      "(40,)\n"
     ]
    }
   ],
   "source": [
    "print(TrainValid['category_id'].unique().shape)\n",
    "print(Test['category_id'].unique().shape)"
   ]
  },
  {
   "attachments": {},
   "cell_type": "markdown",
   "metadata": {},
   "source": [
    "# PROCESSING JSON"
   ]
  },
  {
   "cell_type": "code",
   "execution_count": 17,
   "metadata": {},
   "outputs": [
    {
     "name": "stdout",
     "output_type": "stream",
     "text": [
      "(20958,) (8982,) (21561,)\n"
     ]
    }
   ],
   "source": [
    "Train_image = TrainValid.groupby(['file_name'])['file_name'].nunique().sample(frac=0.7)\n",
    "Val_image = TrainValid.groupby(['file_name'])['file_name'].nunique().drop(Train_image.index)\n",
    "Test_image = Test.groupby(['file_name'])['file_name'].nunique()\n",
    "\n",
    "print(Train_image.shape, Val_image.shape, Test_image.shape)"
   ]
  },
  {
   "cell_type": "code",
   "execution_count": 18,
   "metadata": {},
   "outputs": [
    {
     "name": "stdout",
     "output_type": "stream",
     "text": [
      "(207058, 13) (88373, 13) (72504, 13)\n"
     ]
    }
   ],
   "source": [
    "Train = TrainValid.loc[TrainValid['file_name'].isin(Train_image.index)]\n",
    "Valid = TrainValid.loc[TrainValid['file_name'].isin(Val_image.index)]\n",
    "print(Train.shape, Valid.shape, Test.shape)"
   ]
  },
  {
   "cell_type": "code",
   "execution_count": 19,
   "metadata": {},
   "outputs": [
    {
     "name": "stdout",
     "output_type": "stream",
     "text": [
      "(160,)\n",
      "(160,)\n",
      "(40,)\n"
     ]
    }
   ],
   "source": [
    "print(Train['category_id'].unique().shape)\n",
    "print(Valid['category_id'].unique().shape)\n",
    "print(Test['category_id'].unique().shape)"
   ]
  },
  {
   "cell_type": "code",
   "execution_count": 20,
   "metadata": {},
   "outputs": [
    {
     "data": {
      "text/html": [
       "<div>\n",
       "<style scoped>\n",
       "    .dataframe tbody tr th:only-of-type {\n",
       "        vertical-align: middle;\n",
       "    }\n",
       "\n",
       "    .dataframe tbody tr th {\n",
       "        vertical-align: top;\n",
       "    }\n",
       "\n",
       "    .dataframe thead th {\n",
       "        text-align: right;\n",
       "    }\n",
       "</style>\n",
       "<table border=\"1\" class=\"dataframe\">\n",
       "  <thead>\n",
       "    <tr style=\"text-align: right;\">\n",
       "      <th></th>\n",
       "      <th>category_id</th>\n",
       "      <th>area</th>\n",
       "      <th>bbox</th>\n",
       "      <th>id_x</th>\n",
       "      <th>image_id</th>\n",
       "      <th>iscrowd</th>\n",
       "      <th>segmentation</th>\n",
       "      <th>point_xy</th>\n",
       "      <th>file_name</th>\n",
       "      <th>width</th>\n",
       "      <th>height</th>\n",
       "      <th>id_y</th>\n",
       "      <th>level</th>\n",
       "      <th>supercategory</th>\n",
       "      <th>id</th>\n",
       "      <th>name</th>\n",
       "    </tr>\n",
       "  </thead>\n",
       "  <tbody>\n",
       "    <tr>\n",
       "      <th>0</th>\n",
       "      <td>1</td>\n",
       "      <td>215063.19</td>\n",
       "      <td>[996.09, 139.75, 522.86, 411.32]</td>\n",
       "      <td>285450</td>\n",
       "      <td>25805</td>\n",
       "      <td>0</td>\n",
       "      <td>[[]]</td>\n",
       "      <td>[1257.52, 345.41]</td>\n",
       "      <td>20180912-14-04-50-321.jpg</td>\n",
       "      <td>1794</td>\n",
       "      <td>1794</td>\n",
       "      <td>25805</td>\n",
       "      <td>hard</td>\n",
       "      <td>puffed_food</td>\n",
       "      <td>1</td>\n",
       "      <td>1_puffed_food</td>\n",
       "    </tr>\n",
       "    <tr>\n",
       "      <th>1</th>\n",
       "      <td>2</td>\n",
       "      <td>170664.25</td>\n",
       "      <td>[631.48, 258.26, 467.55, 365.02]</td>\n",
       "      <td>148183</td>\n",
       "      <td>16792</td>\n",
       "      <td>0</td>\n",
       "      <td>[[]]</td>\n",
       "      <td>[865.25, 440.77]</td>\n",
       "      <td>20180920-13-22-21-1190.jpg</td>\n",
       "      <td>1835</td>\n",
       "      <td>1835</td>\n",
       "      <td>16792</td>\n",
       "      <td>medium</td>\n",
       "      <td>puffed_food</td>\n",
       "      <td>2</td>\n",
       "      <td>2_puffed_food</td>\n",
       "    </tr>\n",
       "    <tr>\n",
       "      <th>2</th>\n",
       "      <td>4</td>\n",
       "      <td>299776.23</td>\n",
       "      <td>[425.78, 1293.77, 579.49, 517.31]</td>\n",
       "      <td>138974</td>\n",
       "      <td>16083</td>\n",
       "      <td>0</td>\n",
       "      <td>[[]]</td>\n",
       "      <td>[715.52, 1552.42]</td>\n",
       "      <td>20180919-14-06-48-1097.jpg</td>\n",
       "      <td>1828</td>\n",
       "      <td>1828</td>\n",
       "      <td>16083</td>\n",
       "      <td>medium</td>\n",
       "      <td>puffed_food</td>\n",
       "      <td>4</td>\n",
       "      <td>4_puffed_food</td>\n",
       "    </tr>\n",
       "    <tr>\n",
       "      <th>3</th>\n",
       "      <td>5</td>\n",
       "      <td>298469.76</td>\n",
       "      <td>[307.1, 448.95, 605.76, 492.72]</td>\n",
       "      <td>15551</td>\n",
       "      <td>3035</td>\n",
       "      <td>0</td>\n",
       "      <td>[[]]</td>\n",
       "      <td>[609.98, 695.31]</td>\n",
       "      <td>20180827-16-06-11-293.jpg</td>\n",
       "      <td>1834</td>\n",
       "      <td>1834</td>\n",
       "      <td>3035</td>\n",
       "      <td>easy</td>\n",
       "      <td>puffed_food</td>\n",
       "      <td>5</td>\n",
       "      <td>5_puffed_food</td>\n",
       "    </tr>\n",
       "    <tr>\n",
       "      <th>4</th>\n",
       "      <td>6</td>\n",
       "      <td>325987.44</td>\n",
       "      <td>[599.0, 108.62, 624.12, 522.31]</td>\n",
       "      <td>302977</td>\n",
       "      <td>26778</td>\n",
       "      <td>0</td>\n",
       "      <td>[[]]</td>\n",
       "      <td>[911.06, 369.77]</td>\n",
       "      <td>20180926-13-09-18-1871.jpg</td>\n",
       "      <td>1833</td>\n",
       "      <td>1833</td>\n",
       "      <td>26778</td>\n",
       "      <td>hard</td>\n",
       "      <td>puffed_food</td>\n",
       "      <td>6</td>\n",
       "      <td>6_puffed_food</td>\n",
       "    </tr>\n",
       "    <tr>\n",
       "      <th>...</th>\n",
       "      <td>...</td>\n",
       "      <td>...</td>\n",
       "      <td>...</td>\n",
       "      <td>...</td>\n",
       "      <td>...</td>\n",
       "      <td>...</td>\n",
       "      <td>...</td>\n",
       "      <td>...</td>\n",
       "      <td>...</td>\n",
       "      <td>...</td>\n",
       "      <td>...</td>\n",
       "      <td>...</td>\n",
       "      <td>...</td>\n",
       "      <td>...</td>\n",
       "      <td>...</td>\n",
       "      <td>...</td>\n",
       "    </tr>\n",
       "    <tr>\n",
       "      <th>155</th>\n",
       "      <td>195</td>\n",
       "      <td>28228.19</td>\n",
       "      <td>[1356.12, 1050.75, 122.7, 230.06]</td>\n",
       "      <td>34886</td>\n",
       "      <td>5850</td>\n",
       "      <td>0</td>\n",
       "      <td>[[]]</td>\n",
       "      <td>[1417.47, 1165.78]</td>\n",
       "      <td>20180829-14-36-50-1767.jpg</td>\n",
       "      <td>1865</td>\n",
       "      <td>1865</td>\n",
       "      <td>5850</td>\n",
       "      <td>easy</td>\n",
       "      <td>stationery</td>\n",
       "      <td>195</td>\n",
       "      <td>195_stationery</td>\n",
       "    </tr>\n",
       "    <tr>\n",
       "      <th>156</th>\n",
       "      <td>196</td>\n",
       "      <td>328121.74</td>\n",
       "      <td>[1147.42, 1063.5, 571.0, 574.65]</td>\n",
       "      <td>26344</td>\n",
       "      <td>4656</td>\n",
       "      <td>0</td>\n",
       "      <td>[[]]</td>\n",
       "      <td>[1432.92, 1350.83]</td>\n",
       "      <td>20180827-14-24-15-224.jpg</td>\n",
       "      <td>1830</td>\n",
       "      <td>1830</td>\n",
       "      <td>4656</td>\n",
       "      <td>easy</td>\n",
       "      <td>stationery</td>\n",
       "      <td>196</td>\n",
       "      <td>196_stationery</td>\n",
       "    </tr>\n",
       "    <tr>\n",
       "      <th>157</th>\n",
       "      <td>197</td>\n",
       "      <td>121205.90</td>\n",
       "      <td>[1044.9, 1247.35, 351.38, 344.94]</td>\n",
       "      <td>70002</td>\n",
       "      <td>9880</td>\n",
       "      <td>0</td>\n",
       "      <td>[[]]</td>\n",
       "      <td>[1220.59, 1419.82]</td>\n",
       "      <td>20180828-10-02-59-398.jpg</td>\n",
       "      <td>1822</td>\n",
       "      <td>1822</td>\n",
       "      <td>9880</td>\n",
       "      <td>easy</td>\n",
       "      <td>stationery</td>\n",
       "      <td>197</td>\n",
       "      <td>197_stationery</td>\n",
       "    </tr>\n",
       "    <tr>\n",
       "      <th>158</th>\n",
       "      <td>198</td>\n",
       "      <td>41751.38</td>\n",
       "      <td>[734.45, 938.96, 136.76, 305.29]</td>\n",
       "      <td>25446</td>\n",
       "      <td>4527</td>\n",
       "      <td>0</td>\n",
       "      <td>[[]]</td>\n",
       "      <td>[802.83, 1091.61]</td>\n",
       "      <td>20180824-14-33-05-25.jpg</td>\n",
       "      <td>1850</td>\n",
       "      <td>1850</td>\n",
       "      <td>4527</td>\n",
       "      <td>easy</td>\n",
       "      <td>stationery</td>\n",
       "      <td>198</td>\n",
       "      <td>198_stationery</td>\n",
       "    </tr>\n",
       "    <tr>\n",
       "      <th>159</th>\n",
       "      <td>199</td>\n",
       "      <td>140129.70</td>\n",
       "      <td>[425.78, 329.9, 309.77, 452.36]</td>\n",
       "      <td>83403</td>\n",
       "      <td>11220</td>\n",
       "      <td>0</td>\n",
       "      <td>[[]]</td>\n",
       "      <td>[580.66, 556.08]</td>\n",
       "      <td>20181024-13-48-08-107.jpg</td>\n",
       "      <td>1807</td>\n",
       "      <td>1807</td>\n",
       "      <td>11220</td>\n",
       "      <td>medium</td>\n",
       "      <td>stationery</td>\n",
       "      <td>199</td>\n",
       "      <td>199_stationery</td>\n",
       "    </tr>\n",
       "  </tbody>\n",
       "</table>\n",
       "<p>160 rows × 16 columns</p>\n",
       "</div>"
      ],
      "text/plain": [
       "     category_id       area                               bbox    id_x  \\\n",
       "0              1  215063.19   [996.09, 139.75, 522.86, 411.32]  285450   \n",
       "1              2  170664.25   [631.48, 258.26, 467.55, 365.02]  148183   \n",
       "2              4  299776.23  [425.78, 1293.77, 579.49, 517.31]  138974   \n",
       "3              5  298469.76    [307.1, 448.95, 605.76, 492.72]   15551   \n",
       "4              6  325987.44    [599.0, 108.62, 624.12, 522.31]  302977   \n",
       "..           ...        ...                                ...     ...   \n",
       "155          195   28228.19  [1356.12, 1050.75, 122.7, 230.06]   34886   \n",
       "156          196  328121.74   [1147.42, 1063.5, 571.0, 574.65]   26344   \n",
       "157          197  121205.90  [1044.9, 1247.35, 351.38, 344.94]   70002   \n",
       "158          198   41751.38   [734.45, 938.96, 136.76, 305.29]   25446   \n",
       "159          199  140129.70    [425.78, 329.9, 309.77, 452.36]   83403   \n",
       "\n",
       "     image_id  iscrowd segmentation            point_xy  \\\n",
       "0       25805        0         [[]]   [1257.52, 345.41]   \n",
       "1       16792        0         [[]]    [865.25, 440.77]   \n",
       "2       16083        0         [[]]   [715.52, 1552.42]   \n",
       "3        3035        0         [[]]    [609.98, 695.31]   \n",
       "4       26778        0         [[]]    [911.06, 369.77]   \n",
       "..        ...      ...          ...                 ...   \n",
       "155      5850        0         [[]]  [1417.47, 1165.78]   \n",
       "156      4656        0         [[]]  [1432.92, 1350.83]   \n",
       "157      9880        0         [[]]  [1220.59, 1419.82]   \n",
       "158      4527        0         [[]]   [802.83, 1091.61]   \n",
       "159     11220        0         [[]]    [580.66, 556.08]   \n",
       "\n",
       "                      file_name  width  height   id_y   level supercategory  \\\n",
       "0     20180912-14-04-50-321.jpg   1794    1794  25805    hard   puffed_food   \n",
       "1    20180920-13-22-21-1190.jpg   1835    1835  16792  medium   puffed_food   \n",
       "2    20180919-14-06-48-1097.jpg   1828    1828  16083  medium   puffed_food   \n",
       "3     20180827-16-06-11-293.jpg   1834    1834   3035    easy   puffed_food   \n",
       "4    20180926-13-09-18-1871.jpg   1833    1833  26778    hard   puffed_food   \n",
       "..                          ...    ...     ...    ...     ...           ...   \n",
       "155  20180829-14-36-50-1767.jpg   1865    1865   5850    easy    stationery   \n",
       "156   20180827-14-24-15-224.jpg   1830    1830   4656    easy    stationery   \n",
       "157   20180828-10-02-59-398.jpg   1822    1822   9880    easy    stationery   \n",
       "158    20180824-14-33-05-25.jpg   1850    1850   4527    easy    stationery   \n",
       "159   20181024-13-48-08-107.jpg   1807    1807  11220  medium    stationery   \n",
       "\n",
       "      id            name  \n",
       "0      1   1_puffed_food  \n",
       "1      2   2_puffed_food  \n",
       "2      4   4_puffed_food  \n",
       "3      5   5_puffed_food  \n",
       "4      6   6_puffed_food  \n",
       "..   ...             ...  \n",
       "155  195  195_stationery  \n",
       "156  196  196_stationery  \n",
       "157  197  197_stationery  \n",
       "158  198  198_stationery  \n",
       "159  199  199_stationery  \n",
       "\n",
       "[160 rows x 16 columns]"
      ]
     },
     "execution_count": 20,
     "metadata": {},
     "output_type": "execute_result"
    }
   ],
   "source": [
    "train_merge = pd.merge(Train, category, how=\"left\", left_on='category_id', right_on='id')\n",
    "train_merge.groupby('category_id', as_index=False).first()"
   ]
  },
  {
   "cell_type": "code",
   "execution_count": 21,
   "metadata": {},
   "outputs": [],
   "source": [
    "train_merge = pd.merge(Train, category, how=\"left\", left_on='category_id', right_on='id')\n",
    "valid_merge = pd.merge(Valid, category, how=\"left\", left_on='category_id', right_on='id')\n",
    "test_merge = pd.merge(Test, category, how=\"left\", left_on='category_id', right_on='id')\n",
    "\n",
    "# df = pd.DataFrame({'Train/Valid': train_merge.groupby('category_id', as_index=False).first()['supercategory'].value_counts(),\n",
    "# #                   'Valid':  valid_merge.groupby('category_id', as_index=False).first()['supercategory'].value_counts(),\n",
    "#                    'Test': test_merge.groupby('category_id', as_index=False).first()['supercategory'].value_counts()})\n",
    "#df.plot.barh(stacked=True,color={\"Train\": \"darkred\", \"Valid\": \"tab:olive\",'Test':\"darkblue\"})\n",
    "# df.plot.barh(stacked=True,color={\"Train/Valid\": \"darkred\", 'Test':\"darkblue\"})"
   ]
  },
  {
   "cell_type": "code",
   "execution_count": 22,
   "metadata": {},
   "outputs": [],
   "source": [
    "# df = pd.DataFrame({'Train': train_merge['name'].value_counts(),\n",
    "#                    'Valid': valid_merge['name'].value_counts(),\n",
    "#                    'Test':test_merge['name'].value_counts()})\n",
    "# df.plot.barh(stacked=True,figsize=(8,35),color={\"Train\": \"darkred\", \"Valid\": \"tab:olive\",'Test':\"darkblue\"})"
   ]
  },
  {
   "cell_type": "code",
   "execution_count": 31,
   "metadata": {},
   "outputs": [],
   "source": [
    "def saveImage(list_image, merge, path):\n",
    "    for name in tqdm(list_image.keys()):\n",
    "        if(os.path.exists(PATH+'test2019/'+name)):\n",
    "            image = Image.open(PATH+'test2019/'+name)\n",
    "        else:\n",
    "            image = Image.open(PATH+'val2019/'+name)\n",
    "        for c in merge.loc[merge['file_name'] == name]['category_id'].unique():\n",
    "            image = resize_with_padding(image, (640,640))\n",
    "            image.save(path+name[:-4]+'.'+str(c)+'.png')"
   ]
  },
  {
   "cell_type": "code",
   "execution_count": 32,
   "metadata": {},
   "outputs": [
    {
     "name": "stderr",
     "output_type": "stream",
     "text": [
      "100%|██████████| 20958/20958 [3:24:04<00:00,  1.71it/s]  \n"
     ]
    }
   ],
   "source": [
    "saveImage(Train_image,train_merge,'RPC/train/images/')"
   ]
  },
  {
   "cell_type": "code",
   "execution_count": 33,
   "metadata": {},
   "outputs": [
    {
     "name": "stderr",
     "output_type": "stream",
     "text": [
      "100%|██████████| 8982/8982 [1:25:44<00:00,  1.75it/s]\n"
     ]
    }
   ],
   "source": [
    "saveImage(Val_image,valid_merge,'RPC/valid/images/')"
   ]
  },
  {
   "cell_type": "code",
   "execution_count": 34,
   "metadata": {},
   "outputs": [
    {
     "name": "stderr",
     "output_type": "stream",
     "text": [
      "100%|██████████| 21561/21561 [1:40:14<00:00,  3.58it/s]  \n"
     ]
    }
   ],
   "source": [
    "saveImage(Test_image,test_merge,'RPC/test/images/')"
   ]
  },
  {
   "cell_type": "code",
   "execution_count": null,
   "metadata": {},
   "outputs": [],
   "source": [
    "def resize_label_with_padding(old_size, expected_size, bbox):\n",
    "    (x,y,w,h) = bbox\n",
    "\n",
    "    ratio = old_size[0] / old_size[1]\n",
    "    if old_size[0] < old_size[1]:\n",
    "        new = (int(ratio*expected_size[0]),int(expected_size[0]))\n",
    "    else:\n",
    "        new = (int(expected_size[1]),int((1/ratio)*expected_size[1]))\n",
    "\n",
    "    delta_width = expected_size[0] - new[0]\n",
    "    delta_height = expected_size[1] - new[1]\n",
    "\n",
    "    pad_width = delta_width // 2\n",
    "    pad_height = delta_height // 2\n",
    "\n",
    "    x_t = (pad_width +  (x/old_size[0])*new[0] + ((w/old_size[0])*new[0])/2 ) / expected_size[0]\n",
    "    y_t = (pad_height + (y/old_size[1])*new[1] + ((h/old_size[1])*new[1])/2) / expected_size[1]\n",
    "    w_t = (w/old_size[0])*new[0] / expected_size[0]\n",
    "    h_t = (h/old_size[1])*new[1] / expected_size[1]\n",
    "    \n",
    "    return x_t,y_t,w_t,h_t"
   ]
  },
  {
   "cell_type": "code",
   "execution_count": 35,
   "metadata": {},
   "outputs": [],
   "source": [
    "def savetxt(list_image, merge, path):\n",
    "    for name in tqdm(list_image.keys()):\n",
    "        for c in merge.loc[merge['file_name'] == name]['category_id'].unique():\n",
    "\n",
    "            annotation = merge.loc[merge['file_name'] == name]\n",
    "            annotation = annotation[annotation['category_id'] == c]\n",
    "            bbox = annotation['bbox']\n",
    "\n",
    "            with open(path+name[:-4]+'.'+str(c)+'.txt', 'a') as f:\n",
    "                for box,width,height in zip(bbox,annotation['width'],annotation['height']):\n",
    "                    x,y,w,h = resize_label_with_padding((width,height), (640,640), box)\n",
    "                    s = '0'+' '+str(x)+' '+str(y)+' '+str(w)+' '+str(h)+' \\n'\n",
    "                    f.write(s)"
   ]
  },
  {
   "cell_type": "code",
   "execution_count": 36,
   "metadata": {},
   "outputs": [
    {
     "name": "stderr",
     "output_type": "stream",
     "text": [
      "  0%|          | 5/20958 [00:00<29:04, 12.01it/s]"
     ]
    },
    {
     "name": "stderr",
     "output_type": "stream",
     "text": [
      "100%|██████████| 20958/20958 [38:41<00:00,  9.03it/s]\n"
     ]
    }
   ],
   "source": [
    "savetxt(Train_image,train_merge, 'RPC/train/labels/')"
   ]
  },
  {
   "cell_type": "code",
   "execution_count": 37,
   "metadata": {},
   "outputs": [
    {
     "name": "stderr",
     "output_type": "stream",
     "text": [
      "  0%|          | 4/8982 [00:00<03:49, 39.10it/s]"
     ]
    },
    {
     "name": "stderr",
     "output_type": "stream",
     "text": [
      "100%|██████████| 8982/8982 [06:31<00:00, 22.92it/s]\n"
     ]
    }
   ],
   "source": [
    "savetxt(Val_image,valid_merge, 'RPC/valid/labels/')"
   ]
  },
  {
   "cell_type": "code",
   "execution_count": 38,
   "metadata": {},
   "outputs": [
    {
     "name": "stderr",
     "output_type": "stream",
     "text": [
      "  0%|          | 8/21561 [00:00<05:25, 66.27it/s]"
     ]
    },
    {
     "name": "stderr",
     "output_type": "stream",
     "text": [
      "100%|██████████| 21561/21561 [06:04<00:00, 59.15it/s]\n"
     ]
    }
   ],
   "source": [
    "savetxt(Test_image,test_merge, 'RPC/test/labels/')"
   ]
  },
  {
   "cell_type": "code",
   "execution_count": 39,
   "metadata": {},
   "outputs": [],
   "source": [
    "# train: ../train/images\n",
    "# val: ../valid/images\n",
    "# test: ../test/images\n",
    "# support: ../support/images\n",
    "\n",
    "# nc: 1\n",
    "# names: ['coca']\n",
    "\n",
    "with open('RPC/data.yaml', 'a') as f:\n",
    "    f.write('train: ../train/images \\n')\n",
    "    f.write('val: ../valid/images \\n')\n",
    "    f.write('test: ../test/images \\n')\n",
    "    f.write('support: ../support/images \\n')\n",
    "    f.write(' \\n')\n",
    "    f.write('nc: 1 \\n')\n",
    "    f.write('names: [\\'object\\']')"
   ]
  },
  {
   "cell_type": "code",
   "execution_count": 40,
   "metadata": {},
   "outputs": [],
   "source": [
    "#nano ~/.config/Ultralytics/settings.yaml --> change the path to RPC"
   ]
  },
  {
   "cell_type": "code",
   "execution_count": 41,
   "metadata": {},
   "outputs": [],
   "source": [
    "#TODO change valid by test ????"
   ]
  },
  {
   "cell_type": "code",
   "execution_count": null,
   "metadata": {},
   "outputs": [],
   "source": []
  },
  {
   "cell_type": "code",
   "execution_count": null,
   "metadata": {},
   "outputs": [],
   "source": []
  },
  {
   "cell_type": "code",
   "execution_count": null,
   "metadata": {},
   "outputs": [],
   "source": []
  }
 ],
 "metadata": {
  "kernelspec": {
   "display_name": "Python 3.8.10 64-bit",
   "language": "python",
   "name": "python3"
  },
  "language_info": {
   "codemirror_mode": {
    "name": "ipython",
    "version": 3
   },
   "file_extension": ".py",
   "mimetype": "text/x-python",
   "name": "python",
   "nbconvert_exporter": "python",
   "pygments_lexer": "ipython3",
   "version": "3.8.10"
  },
  "orig_nbformat": 4,
  "vscode": {
   "interpreter": {
    "hash": "916dbcbb3f70747c44a77c7bcd40155683ae19c65e1c03b4aa3499c5328201f1"
   }
  }
 },
 "nbformat": 4,
 "nbformat_minor": 2
}

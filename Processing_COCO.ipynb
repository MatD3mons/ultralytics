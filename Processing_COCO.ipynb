{
 "cells": [
  {
   "cell_type": "code",
   "execution_count": null,
   "metadata": {},
   "outputs": [],
   "source": [
    "import numpy as np\n",
    "import pandas as pd\n",
    "import json\n",
    "import os\n",
    "from PIL import Image\n",
    "\n",
    "import matplotlib.pyplot as plt\n",
    "from tqdm import tqdm\n",
    "\n",
    "%matplotlib inline"
   ]
  },
  {
   "cell_type": "code",
   "execution_count": null,
   "metadata": {},
   "outputs": [],
   "source": [
    "def load_json(jfile):\n",
    "    with open(jfile, 'rb') as f:\n",
    "        return json.load(f)"
   ]
  },
  {
   "cell_type": "code",
   "execution_count": null,
   "metadata": {},
   "outputs": [],
   "source": [
    "PATH = '/media/nas/BasesDeDonnees/cocodataset/'\n",
    "#path = '../cocodataset/'\n",
    "\n",
    "#train_2014 = PATH+'train_2014'\n",
    "#valid_2014 = PATH+'valid_2014'\n",
    "#test_2014 = PATH+'test_2014'\n",
    "\n",
    "#test_2015 = PATH+'test_2015'\n",
    "\n",
    "train_2017 = PATH+'train_2017'\n",
    "valid_2017 = PATH+'valid_2017'\n",
    "#test_2017 = PATH+'test_2017'\n",
    "\n",
    "#train_2014 = PATH+'annotations/instances_train2017.json'\n",
    "#valid_2014 = PATH+'annotations/instances_val2017.json'\n",
    "#test_2014 = PATH+'annotations/image_nfi_test2017.json'\n",
    "\n",
    "train_2017 = PATH+'annotations/instances_train2017.json'\n",
    "valid_2017 = PATH+'annotations/instances_val2017.json'\n",
    "#test_2017 = PATH+'annotations/image_nfi_test2017.json'\n",
    "\n",
    "#train_2014_data = load_json(train_2014)\n",
    "#valid_2014_data = load_json(valid_2014)\n",
    "train_2017_data = load_json(train_2017)\n",
    "valid_2017_data = load_json(valid_2017)"
   ]
  },
  {
   "cell_type": "code",
   "execution_count": null,
   "metadata": {},
   "outputs": [],
   "source": [
    "import os\n",
    "\n",
    "paths = ['COCO1',\n",
    "         'COCO1/train',\n",
    "         'COCO1/train/images',\n",
    "         'COCO1/train/labels',\n",
    "         'COCO1/valid',\n",
    "         'COCO1/valid/images',\n",
    "         'COCO1/valid/labels',\n",
    "         'COCO1/support',\n",
    "         'COCO1/support/images']\n",
    "\n",
    "        #  'COCO2',\n",
    "        #  'COCO2/train',\n",
    "        #  'COCO2/train/images',\n",
    "        #  'COCO2/train/labels',\n",
    "        #  'COCO2/valid',\n",
    "        #  'COCO2/valid/images',\n",
    "        #  'COCO2/valid/labels',\n",
    "        #  'COCO2/support',\n",
    "        #  'COCO2/support/images',\n",
    "        #  'COCO3',\n",
    "        #  'COCO3/train',\n",
    "        #  'COCO3/train/images',\n",
    "        #  'COCO3/train/labels',\n",
    "        #  'COCO3/valid',\n",
    "        #  'COCO3/valid/images',\n",
    "        #  'COCO3/valid/labels',\n",
    "        #  'COCO3/support',\n",
    "        #  'COCO3/support/images',\n",
    "        #  'COCO4',\n",
    "        #  'COCO4/train',\n",
    "        #  'COCO4/train/images',\n",
    "        #  'COCO4/train/labels',\n",
    "        #  'COCO4/valid',\n",
    "        #  'COCO4/valid/images',\n",
    "        #  'COCO4/valid/labels',\n",
    "        #  'COCO4/support',\n",
    "        #  'COCO4/support/images']\n",
    "\n",
    "for path in paths:\n",
    "    if not os.path.exists(path):\n",
    "        os.mkdir(path)"
   ]
  },
  {
   "cell_type": "code",
   "execution_count": null,
   "metadata": {},
   "outputs": [],
   "source": [
    "train_2017_data.keys()"
   ]
  },
  {
   "cell_type": "code",
   "execution_count": null,
   "metadata": {},
   "outputs": [],
   "source": [
    "images_df = pd.DataFrame(train_2017_data['images'])\n",
    "anns_df = pd.DataFrame(train_2017_data['annotations'])\n",
    "category = pd.DataFrame(train_2017_data['categories'])\n",
    "\n",
    "all_train = pd.merge(anns_df, images_df, left_on='image_id', right_on='id')\n",
    "\n",
    "images_df = pd.DataFrame(valid_2017_data['images'])\n",
    "anns_df = pd.DataFrame(valid_2017_data['annotations'])\n",
    "category = pd.DataFrame(valid_2017_data['categories'])\n",
    "\n",
    "all_valid = pd.merge(anns_df, images_df, left_on='image_id', right_on='id')"
   ]
  },
  {
   "cell_type": "code",
   "execution_count": null,
   "metadata": {},
   "outputs": [],
   "source": [
    "anns_df['category_id'].unique()"
   ]
  },
  {
   "cell_type": "code",
   "execution_count": null,
   "metadata": {},
   "outputs": [],
   "source": [
    "all_valid.head()"
   ]
  },
  {
   "attachments": {},
   "cell_type": "markdown",
   "metadata": {},
   "source": [
    "# PROCESSING CLasses\n"
   ]
  },
  {
   "cell_type": "code",
   "execution_count": null,
   "metadata": {},
   "outputs": [],
   "source": [
    "print(all_train['category_id'].unique().shape)\n",
    "print(all_valid['category_id'].unique().shape)"
   ]
  },
  {
   "cell_type": "code",
   "execution_count": null,
   "metadata": {},
   "outputs": [],
   "source": [
    "coco_classes = all_train['category_id'].unique()\n",
    "split1 = coco_classes[[(i-1) for i in [1,5,9,13,17,21,25,29,33,37,41,45,49,53,57,61,65,69,73,77]]]\n",
    "#split2 = coco_classes[[(i-1) for i in [2,6,10,14,18,22,26,30,34,38,42,46,50,54,58,62,66,70,74,78]]]\n",
    "#split3 = coco_classes[[(i-1) for i in [3,7,11,15,19,23,27,31,35,39,43,47,51,55,59,63,67,71,75,79]]]\n",
    "#split4 =coco_classes[[(i-1) for i in  [4,8,12,16,20,24,28,32,36,40,44,48,52,56,60,64,68,72,76,80]]]\n",
    "\n",
    "print(len(split1))#,len(split2),len(split3),len(split4))"
   ]
  },
  {
   "cell_type": "code",
   "execution_count": null,
   "metadata": {},
   "outputs": [],
   "source": [
    "split1_train = all_train[-all_train['category_id'].isin(split1)]\n",
    "#split2_train = all_train[-all_train['category_id'].isin(split2)]\n",
    "#split3_train = all_train[-all_train['category_id'].isin(split3)]\n",
    "#split4_train = all_train[-all_train['category_id'].isin(split4)]\n",
    "\n",
    "split1_valid = all_valid[all_valid['category_id'].isin(split1)]\n",
    "#split2_valid = all_valid[all_valid['category_id'].isin(split2)]\n",
    "#split3_valid = all_valid[all_valid['category_id'].isin(split3)]\n",
    "#split4_valid = all_valid[all_valid['category_id'].isin(split4)]\n"
   ]
  },
  {
   "attachments": {},
   "cell_type": "markdown",
   "metadata": {},
   "source": [
    "# PROCESSING JSON"
   ]
  },
  {
   "cell_type": "code",
   "execution_count": null,
   "metadata": {},
   "outputs": [],
   "source": [
    "print(split1_train['category_id'].unique().shape)\n",
    "print(split1_valid['category_id'].unique().shape)\n",
    "\n",
    "# print(split2_train['category_id'].unique().shape)\n",
    "# print(split2_valid['category_id'].unique().shape)\n",
    "\n",
    "# print(split3_train['category_id'].unique().shape)\n",
    "# print(split3_valid['category_id'].unique().shape)\n",
    "\n",
    "# print(split4_train['category_id'].unique().shape)\n",
    "# print(split4_valid['category_id'].unique().shape)"
   ]
  },
  {
   "cell_type": "code",
   "execution_count": null,
   "metadata": {},
   "outputs": [],
   "source": [
    "category['name'].unique()"
   ]
  },
  {
   "cell_type": "code",
   "execution_count": null,
   "metadata": {},
   "outputs": [],
   "source": [
    "plt.figure()\n",
    "\n",
    "label = np.arange(len(split1_valid['category_id'].unique()))\n",
    "l = [(i-1) for i in [1,5,9,13,17,21,25,29,33,37,41,45,49,53,57,61,65,69,73,77]]\n",
    "names = category['name'].unique()[l]\n",
    "\n",
    "plt.barh(label, split1_valid['category_id'].value_counts())\n",
    "plt.yticks(label, names)\n"
   ]
  },
  {
   "cell_type": "code",
   "execution_count": null,
   "metadata": {},
   "outputs": [],
   "source": [
    "len(split1_train['file_name'].unique())"
   ]
  },
  {
   "cell_type": "markdown",
   "metadata": {},
   "source": [
    "# Base on DANA support IMAGE"
   ]
  },
  {
   "cell_type": "code",
   "execution_count": null,
   "metadata": {},
   "outputs": [],
   "source": [
    "#!wget -O support.zip \"https://drive.google.com/uc?export=download&id=1nl9-DEpBBJ5w6hxVdijY6hFxoQdz8aso&confirm=yes\""
   ]
  },
  {
   "cell_type": "code",
   "execution_count": null,
   "metadata": {},
   "outputs": [],
   "source": [
    "#!unzip support.zip"
   ]
  },
  {
   "cell_type": "code",
   "execution_count": null,
   "metadata": {},
   "outputs": [],
   "source": [
    "category.head()"
   ]
  },
  {
   "cell_type": "code",
   "execution_count": null,
   "metadata": {},
   "outputs": [],
   "source": [
    "from PIL import Image, ImageOps\n",
    "\n",
    "def resize_with_padding(img, expected_size):\n",
    "    width, height = img.size\n",
    "    ratio = width / height\n",
    "    if width < height:\n",
    "        img = img.resize((int(ratio*expected_size[0]),int(expected_size[0])))\n",
    "    else:\n",
    "        img = img.resize((int(expected_size[1]),int((1/ratio)*expected_size[1])))\n",
    "        \n",
    "    img.thumbnail((expected_size[0], expected_size[1]))\n",
    "    delta_width = expected_size[0] - img.size[0]\n",
    "    delta_height = expected_size[1] - img.size[1]\n",
    "    pad_width = delta_width // 2\n",
    "    pad_height = delta_height // 2\n",
    "    padding = (pad_width, pad_height, delta_width - pad_width, delta_height - pad_height)\n",
    "    return ImageOps.expand(img, padding)\n"
   ]
  },
  {
   "cell_type": "code",
   "execution_count": null,
   "metadata": {},
   "outputs": [],
   "source": [
    "#TODO support for train:\n",
    "import glob\n",
    "\n",
    "def saveSupport(path):\n",
    "    for row in tqdm(category.iloc(),total=len(category)):\n",
    "        name = row['name']\n",
    "        c = row['id']\n",
    "        liste = glob.glob('supports/all/'+name+'/*')\n",
    "        f = liste[0]\n",
    "        image = Image.open(f)\n",
    "        image = resize_with_padding(image, (640,640))\n",
    "        image.save(path+str(c)+'.png')"
   ]
  },
  {
   "cell_type": "code",
   "execution_count": null,
   "metadata": {},
   "outputs": [],
   "source": [
    "#saveSupport('COCO1/support/images/')"
   ]
  },
  {
   "cell_type": "code",
   "execution_count": null,
   "metadata": {},
   "outputs": [],
   "source": [
    "def saveImage(pd, folder, path):\n",
    "    list_image = pd['file_name'].unique()\n",
    "    for name in tqdm(list_image):\n",
    "        image = Image.open(PATH+folder+name)\n",
    "        for c in pd.loc[pd['file_name'] == name]['category_id'].unique():\n",
    "            image = resize_with_padding(image, (640,640))\n",
    "            image.save(path+name[:-4]+'.'+str(c)+'.png')\n",
    "        "
   ]
  },
  {
   "cell_type": "code",
   "execution_count": null,
   "metadata": {},
   "outputs": [],
   "source": [
    "#saveImage(split1_train,'train2017/','COCO1/train/images/')\n",
    "#saveImage(split1_valid,'val2017/','COCO1/valid/images/')"
   ]
  },
  {
   "cell_type": "code",
   "execution_count": null,
   "metadata": {},
   "outputs": [],
   "source": [
    "# saveImage(split2_train,'train2017/','COCO2/train/images/')\n",
    "# saveImage(split2_valid,'val2017/','COCO2/valid/images/')"
   ]
  },
  {
   "cell_type": "code",
   "execution_count": null,
   "metadata": {},
   "outputs": [],
   "source": [
    "# saveImage(split3_train,'train2017/','COCO3/train/images/')\n",
    "# saveImage(split3_valid,'val2017/','COCO3/valid/images/')"
   ]
  },
  {
   "cell_type": "code",
   "execution_count": null,
   "metadata": {},
   "outputs": [],
   "source": [
    "# saveImage(split4_train,'train2017/','COCO4/train/images/')\n",
    "# saveImage(split4_valid,'val2017/','COCO4/valid/images/')"
   ]
  },
  {
   "cell_type": "code",
   "execution_count": null,
   "metadata": {},
   "outputs": [],
   "source": [
    "def resize_label_with_padding(old_size, expected_size, bbox):\n",
    "    (x,y,w,h) = bbox\n",
    "\n",
    "    ratio = old_size[0] / old_size[1]\n",
    "    if old_size[0] < old_size[1]:\n",
    "        new = (int(ratio*expected_size[0]),int(expected_size[0]))\n",
    "    else:\n",
    "        new = (int(expected_size[1]),int((1/ratio)*expected_size[1]))\n",
    "\n",
    "    delta_width = expected_size[0] - new[0]\n",
    "    delta_height = expected_size[1] - new[1]\n",
    "\n",
    "    pad_width = delta_width // 2\n",
    "    pad_height = delta_height // 2\n",
    "\n",
    "    x_t = (pad_width +  (x/old_size[0])*new[0] + ((w/old_size[0])*new[0])/2 ) / expected_size[0]\n",
    "    y_t = (pad_height + (y/old_size[1])*new[1] + ((h/old_size[1])*new[1])/2) / expected_size[1]\n",
    "    w_t = (w/old_size[0])*new[0] / expected_size[0]\n",
    "    h_t = (h/old_size[1])*new[1] / expected_size[1]\n",
    "    \n",
    "    return x_t,y_t,w_t,h_t"
   ]
  },
  {
   "cell_type": "code",
   "execution_count": null,
   "metadata": {},
   "outputs": [],
   "source": [
    "def savetxt(pd, path):\n",
    "    list_image = pd['file_name'].unique()\n",
    "    for name in tqdm(list_image):\n",
    "        for c in pd.loc[pd['file_name'] == name]['category_id'].unique():\n",
    "            annotation = pd.loc[pd['file_name'] == name]\n",
    "            annotation = annotation[annotation['category_id'] == c]\n",
    "            bbox = annotation['bbox']\n",
    "\n",
    "            with open(path+name[:-4]+'.'+str(c)+'.txt', 'wt') as f:\n",
    "                for box,width,height in zip(bbox,annotation['width'],annotation['height']):\n",
    "                    x,y,w,h = resize_label_with_padding((width,height), (640,640), box)\n",
    "                    s = '0'+' '+str(x)+' '+str(y)+' '+str(w)+' '+str(h)+' \\n'\n",
    "                    f.write(s)"
   ]
  },
  {
   "cell_type": "code",
   "execution_count": null,
   "metadata": {},
   "outputs": [],
   "source": [
    "savetxt(split1_train,'COCO1/train/labels/')\n",
    "savetxt(split1_valid,'COCO1/valid/labels/')"
   ]
  },
  {
   "cell_type": "code",
   "execution_count": null,
   "metadata": {},
   "outputs": [],
   "source": [
    "# savetxt(split2_train,'COCO2/train/labels/')\n",
    "# savetxt(split2_valid,'COCO2/valid/labels/')"
   ]
  },
  {
   "cell_type": "code",
   "execution_count": null,
   "metadata": {},
   "outputs": [],
   "source": [
    "# savetxt(split3_train,'COCO3/train/labels/')\n",
    "# savetxt(split3_valid,'COCO3/valid/labels/')"
   ]
  },
  {
   "cell_type": "code",
   "execution_count": null,
   "metadata": {},
   "outputs": [],
   "source": [
    "# savetxt(split4_train,'COCO4/train/labels/')\n",
    "# savetxt(split4_valid,'COCO4/valid/labels/')"
   ]
  },
  {
   "cell_type": "code",
   "execution_count": null,
   "metadata": {},
   "outputs": [],
   "source": [
    "with open('COCO1/data.yaml', 'a') as f:\n",
    "    f.write('train: ../train/images \\n')\n",
    "    f.write('val: ../valid/images \\n')\n",
    "    f.write('support: ../support/images \\n')\n",
    "    f.write(' \\n')\n",
    "    f.write('nc: 1 \\n')\n",
    "    f.write('names: [\\'object\\']')"
   ]
  },
  {
   "cell_type": "code",
   "execution_count": null,
   "metadata": {},
   "outputs": [],
   "source": [
    "# with open('COCO2/data.yaml', 'a') as f:\n",
    "#     f.write('train: ../train/images \\n')\n",
    "#     f.write('val: ../valid/images \\n')\n",
    "#     f.write('support: ../support/images \\n')\n",
    "#     f.write(' \\n')\n",
    "#     f.write('nc: 1 \\n')\n",
    "#     f.write('names: [\\'object\\']')"
   ]
  },
  {
   "cell_type": "code",
   "execution_count": null,
   "metadata": {},
   "outputs": [],
   "source": [
    "# with open('COCO3/data.yaml', 'a') as f:\n",
    "#     f.write('train: ../train/images \\n')\n",
    "#     f.write('val: ../valid/images \\n')\n",
    "#     f.write('support: ../support/images \\n')\n",
    "#     f.write(' \\n')\n",
    "#     f.write('nc: 1 \\n')\n",
    "#     f.write('names: [\\'object\\']')"
   ]
  },
  {
   "cell_type": "code",
   "execution_count": null,
   "metadata": {},
   "outputs": [],
   "source": [
    "# with open('COCO4/data.yaml', 'a') as f:\n",
    "#     f.write('train: ../train/images \\n')\n",
    "#     f.write('val: ../valid/images \\n')\n",
    "#     f.write('support: ../support/images \\n')\n",
    "#     f.write(' \\n')\n",
    "#     f.write('nc: 1 \\n')\n",
    "#     f.write('names: [\\'object\\']')"
   ]
  },
  {
   "cell_type": "code",
   "execution_count": null,
   "metadata": {},
   "outputs": [],
   "source": []
  },
  {
   "cell_type": "code",
   "execution_count": null,
   "metadata": {},
   "outputs": [],
   "source": []
  }
 ],
 "metadata": {
  "kernelspec": {
   "display_name": "Python 3.8.10 64-bit",
   "language": "python",
   "name": "python3"
  },
  "language_info": {
   "codemirror_mode": {
    "name": "ipython",
    "version": 3
   },
   "file_extension": ".py",
   "mimetype": "text/x-python",
   "name": "python",
   "nbconvert_exporter": "python",
   "pygments_lexer": "ipython3",
   "version": "3.8.10"
  },
  "orig_nbformat": 4,
  "vscode": {
   "interpreter": {
    "hash": "916dbcbb3f70747c44a77c7bcd40155683ae19c65e1c03b4aa3499c5328201f1"
   }
  }
 },
 "nbformat": 4,
 "nbformat_minor": 2
}

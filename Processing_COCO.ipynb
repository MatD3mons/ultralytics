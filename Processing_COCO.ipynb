{
 "cells": [
  {
   "cell_type": "code",
   "execution_count": 1,
   "metadata": {},
   "outputs": [],
   "source": [
    "import numpy as np\n",
    "import pandas as pd\n",
    "import json\n",
    "import os\n",
    "from PIL import Image\n",
    "\n",
    "import matplotlib.pyplot as plt\n",
    "from tqdm import tqdm\n",
    "\n",
    "%matplotlib inline"
   ]
  },
  {
   "cell_type": "code",
   "execution_count": 2,
   "metadata": {},
   "outputs": [],
   "source": [
    "def load_json(jfile):\n",
    "    with open(jfile, 'rb') as f:\n",
    "        return json.load(f)"
   ]
  },
  {
   "cell_type": "code",
   "execution_count": 3,
   "metadata": {},
   "outputs": [],
   "source": [
    "PATH = '/media/nas/BasesDeDonnees/cocodataset/'\n",
    "#path = '../cocodataset/'\n",
    "\n",
    "#train_2014 = PATH+'train_2014'\n",
    "#valid_2014 = PATH+'valid_2014'\n",
    "#test_2014 = PATH+'test_2014'\n",
    "\n",
    "#test_2015 = PATH+'test_2015'\n",
    "\n",
    "train_2017 = PATH+'train_2017'\n",
    "valid_2017 = PATH+'valid_2017'\n",
    "#test_2017 = PATH+'test_2017'\n",
    "\n",
    "#train_2014 = PATH+'annotations/instances_train2017.json'\n",
    "#valid_2014 = PATH+'annotations/instances_val2017.json'\n",
    "#test_2014 = PATH+'annotations/image_nfi_test2017.json'\n",
    "\n",
    "train_2017 = PATH+'annotations/instances_train2017.json'\n",
    "valid_2017 = PATH+'annotations/instances_val2017.json'\n",
    "#test_2017 = PATH+'annotations/image_nfi_test2017.json'\n",
    "\n",
    "#train_2014_data = load_json(train_2014)\n",
    "#valid_2014_data = load_json(valid_2014)\n",
    "train_2017_data = load_json(train_2017)\n",
    "valid_2017_data = load_json(valid_2017)"
   ]
  },
  {
   "cell_type": "code",
   "execution_count": 4,
   "metadata": {},
   "outputs": [],
   "source": [
    "import os\n",
    "\n",
    "paths = ['COCO1',\n",
    "         'COCO1/train',\n",
    "         'COCO1/train/images',\n",
    "         'COCO1/train/labels',\n",
    "         'COCO1/valid',\n",
    "         'COCO1/valid/images',\n",
    "         'COCO1/valid/labels',\n",
    "         'COCO1/support',\n",
    "         'COCO1/support/images']\n",
    "\n",
    "        #  'COCO2',\n",
    "        #  'COCO2/train',\n",
    "        #  'COCO2/train/images',\n",
    "        #  'COCO2/train/labels',\n",
    "        #  'COCO2/valid',\n",
    "        #  'COCO2/valid/images',\n",
    "        #  'COCO2/valid/labels',\n",
    "        #  'COCO2/support',\n",
    "        #  'COCO2/support/images',\n",
    "        #  'COCO3',\n",
    "        #  'COCO3/train',\n",
    "        #  'COCO3/train/images',\n",
    "        #  'COCO3/train/labels',\n",
    "        #  'COCO3/valid',\n",
    "        #  'COCO3/valid/images',\n",
    "        #  'COCO3/valid/labels',\n",
    "        #  'COCO3/support',\n",
    "        #  'COCO3/support/images',\n",
    "        #  'COCO4',\n",
    "        #  'COCO4/train',\n",
    "        #  'COCO4/train/images',\n",
    "        #  'COCO4/train/labels',\n",
    "        #  'COCO4/valid',\n",
    "        #  'COCO4/valid/images',\n",
    "        #  'COCO4/valid/labels',\n",
    "        #  'COCO4/support',\n",
    "        #  'COCO4/support/images']\n",
    "\n",
    "for path in paths:\n",
    "    if not os.path.exists(path):\n",
    "        os.mkdir(path)"
   ]
  },
  {
   "cell_type": "code",
   "execution_count": 5,
   "metadata": {},
   "outputs": [
    {
     "data": {
      "text/plain": [
       "dict_keys(['info', 'licenses', 'images', 'annotations', 'categories'])"
      ]
     },
     "execution_count": 5,
     "metadata": {},
     "output_type": "execute_result"
    }
   ],
   "source": [
    "train_2017_data.keys()"
   ]
  },
  {
   "cell_type": "code",
   "execution_count": 6,
   "metadata": {},
   "outputs": [],
   "source": [
    "images_df = pd.DataFrame(train_2017_data['images'])\n",
    "anns_df = pd.DataFrame(train_2017_data['annotations'])\n",
    "category = pd.DataFrame(train_2017_data['categories'])\n",
    "\n",
    "all_train = pd.merge(anns_df, images_df, left_on='image_id', right_on='id')\n",
    "\n",
    "images_df = pd.DataFrame(valid_2017_data['images'])\n",
    "anns_df = pd.DataFrame(valid_2017_data['annotations'])\n",
    "category = pd.DataFrame(valid_2017_data['categories'])\n",
    "\n",
    "all_valid = pd.merge(anns_df, images_df, left_on='image_id', right_on='id')"
   ]
  },
  {
   "cell_type": "code",
   "execution_count": 7,
   "metadata": {},
   "outputs": [
    {
     "data": {
      "text/plain": [
       "array([18, 64, 72, 16, 17, 19, 20, 21, 44, 63, 62, 67,  2,  3,  4,  5,  6,\n",
       "        7,  9,  1, 13, 28, 32, 54, 65, 77, 82, 85, 90,  8, 10, 11, 14, 15,\n",
       "       34, 35, 36, 41, 42, 46, 47, 48, 49, 50, 51, 52, 53, 55, 56, 57, 59,\n",
       "       61, 70, 73, 74, 75, 76, 78, 79, 80, 81, 84, 86, 87, 88, 89, 27, 31,\n",
       "       33, 22, 24, 38, 58, 60, 25, 39, 40, 37, 23, 43])"
      ]
     },
     "execution_count": 7,
     "metadata": {},
     "output_type": "execute_result"
    }
   ],
   "source": [
    "anns_df['category_id'].unique()"
   ]
  },
  {
   "cell_type": "code",
   "execution_count": 8,
   "metadata": {},
   "outputs": [
    {
     "data": {
      "text/html": [
       "<div>\n",
       "<style scoped>\n",
       "    .dataframe tbody tr th:only-of-type {\n",
       "        vertical-align: middle;\n",
       "    }\n",
       "\n",
       "    .dataframe tbody tr th {\n",
       "        vertical-align: top;\n",
       "    }\n",
       "\n",
       "    .dataframe thead th {\n",
       "        text-align: right;\n",
       "    }\n",
       "</style>\n",
       "<table border=\"1\" class=\"dataframe\">\n",
       "  <thead>\n",
       "    <tr style=\"text-align: right;\">\n",
       "      <th></th>\n",
       "      <th>segmentation</th>\n",
       "      <th>area</th>\n",
       "      <th>iscrowd</th>\n",
       "      <th>image_id</th>\n",
       "      <th>bbox</th>\n",
       "      <th>category_id</th>\n",
       "      <th>id_x</th>\n",
       "      <th>license</th>\n",
       "      <th>file_name</th>\n",
       "      <th>coco_url</th>\n",
       "      <th>height</th>\n",
       "      <th>width</th>\n",
       "      <th>date_captured</th>\n",
       "      <th>flickr_url</th>\n",
       "      <th>id_y</th>\n",
       "    </tr>\n",
       "  </thead>\n",
       "  <tbody>\n",
       "    <tr>\n",
       "      <th>0</th>\n",
       "      <td>[[510.66, 423.01, 511.72, 420.03, 510.45, 416....</td>\n",
       "      <td>702.10575</td>\n",
       "      <td>0</td>\n",
       "      <td>289343</td>\n",
       "      <td>[473.07, 395.93, 38.65, 28.67]</td>\n",
       "      <td>18</td>\n",
       "      <td>1768</td>\n",
       "      <td>2</td>\n",
       "      <td>000000289343.jpg</td>\n",
       "      <td>http://images.cocodataset.org/val2017/00000028...</td>\n",
       "      <td>640</td>\n",
       "      <td>529</td>\n",
       "      <td>2013-11-15 00:35:14</td>\n",
       "      <td>http://farm5.staticflickr.com/4029/4669549715_...</td>\n",
       "      <td>289343</td>\n",
       "    </tr>\n",
       "    <tr>\n",
       "      <th>1</th>\n",
       "      <td>[[204.01, 306.23, 206.07, 295.92, 216.38, 281....</td>\n",
       "      <td>5463.68640</td>\n",
       "      <td>0</td>\n",
       "      <td>289343</td>\n",
       "      <td>[204.01, 235.08, 60.84, 177.36]</td>\n",
       "      <td>1</td>\n",
       "      <td>201376</td>\n",
       "      <td>2</td>\n",
       "      <td>000000289343.jpg</td>\n",
       "      <td>http://images.cocodataset.org/val2017/00000028...</td>\n",
       "      <td>640</td>\n",
       "      <td>529</td>\n",
       "      <td>2013-11-15 00:35:14</td>\n",
       "      <td>http://farm5.staticflickr.com/4029/4669549715_...</td>\n",
       "      <td>289343</td>\n",
       "    </tr>\n",
       "    <tr>\n",
       "      <th>2</th>\n",
       "      <td>[[268.92, 556.53, 268.92, 606.24, 255.93, 604....</td>\n",
       "      <td>10324.90270</td>\n",
       "      <td>0</td>\n",
       "      <td>289343</td>\n",
       "      <td>[0.43, 499.79, 339.79, 106.45]</td>\n",
       "      <td>15</td>\n",
       "      <td>575188</td>\n",
       "      <td>2</td>\n",
       "      <td>000000289343.jpg</td>\n",
       "      <td>http://images.cocodataset.org/val2017/00000028...</td>\n",
       "      <td>640</td>\n",
       "      <td>529</td>\n",
       "      <td>2013-11-15 00:35:14</td>\n",
       "      <td>http://farm5.staticflickr.com/4029/4669549715_...</td>\n",
       "      <td>289343</td>\n",
       "    </tr>\n",
       "    <tr>\n",
       "      <th>3</th>\n",
       "      <td>[[217.31, 448.75, 219.7, 411.99, 219.7, 409.12...</td>\n",
       "      <td>1528.36420</td>\n",
       "      <td>0</td>\n",
       "      <td>289343</td>\n",
       "      <td>[204.42, 304.1, 52.51, 152.76]</td>\n",
       "      <td>2</td>\n",
       "      <td>2168354</td>\n",
       "      <td>2</td>\n",
       "      <td>000000289343.jpg</td>\n",
       "      <td>http://images.cocodataset.org/val2017/00000028...</td>\n",
       "      <td>640</td>\n",
       "      <td>529</td>\n",
       "      <td>2013-11-15 00:35:14</td>\n",
       "      <td>http://farm5.staticflickr.com/4029/4669549715_...</td>\n",
       "      <td>289343</td>\n",
       "    </tr>\n",
       "    <tr>\n",
       "      <th>4</th>\n",
       "      <td>[[289.74, 443.39, 302.29, 445.32, 308.09, 427....</td>\n",
       "      <td>27718.47630</td>\n",
       "      <td>0</td>\n",
       "      <td>61471</td>\n",
       "      <td>[272.1, 200.23, 151.97, 279.77]</td>\n",
       "      <td>18</td>\n",
       "      <td>1773</td>\n",
       "      <td>1</td>\n",
       "      <td>000000061471.jpg</td>\n",
       "      <td>http://images.cocodataset.org/val2017/00000006...</td>\n",
       "      <td>480</td>\n",
       "      <td>640</td>\n",
       "      <td>2013-11-15 01:18:25</td>\n",
       "      <td>http://farm1.staticflickr.com/11/12252917_d009...</td>\n",
       "      <td>61471</td>\n",
       "    </tr>\n",
       "  </tbody>\n",
       "</table>\n",
       "</div>"
      ],
      "text/plain": [
       "                                        segmentation         area  iscrowd  \\\n",
       "0  [[510.66, 423.01, 511.72, 420.03, 510.45, 416....    702.10575        0   \n",
       "1  [[204.01, 306.23, 206.07, 295.92, 216.38, 281....   5463.68640        0   \n",
       "2  [[268.92, 556.53, 268.92, 606.24, 255.93, 604....  10324.90270        0   \n",
       "3  [[217.31, 448.75, 219.7, 411.99, 219.7, 409.12...   1528.36420        0   \n",
       "4  [[289.74, 443.39, 302.29, 445.32, 308.09, 427....  27718.47630        0   \n",
       "\n",
       "   image_id                             bbox  category_id     id_x  license  \\\n",
       "0    289343   [473.07, 395.93, 38.65, 28.67]           18     1768        2   \n",
       "1    289343  [204.01, 235.08, 60.84, 177.36]            1   201376        2   \n",
       "2    289343   [0.43, 499.79, 339.79, 106.45]           15   575188        2   \n",
       "3    289343   [204.42, 304.1, 52.51, 152.76]            2  2168354        2   \n",
       "4     61471  [272.1, 200.23, 151.97, 279.77]           18     1773        1   \n",
       "\n",
       "          file_name                                           coco_url  \\\n",
       "0  000000289343.jpg  http://images.cocodataset.org/val2017/00000028...   \n",
       "1  000000289343.jpg  http://images.cocodataset.org/val2017/00000028...   \n",
       "2  000000289343.jpg  http://images.cocodataset.org/val2017/00000028...   \n",
       "3  000000289343.jpg  http://images.cocodataset.org/val2017/00000028...   \n",
       "4  000000061471.jpg  http://images.cocodataset.org/val2017/00000006...   \n",
       "\n",
       "   height  width        date_captured  \\\n",
       "0     640    529  2013-11-15 00:35:14   \n",
       "1     640    529  2013-11-15 00:35:14   \n",
       "2     640    529  2013-11-15 00:35:14   \n",
       "3     640    529  2013-11-15 00:35:14   \n",
       "4     480    640  2013-11-15 01:18:25   \n",
       "\n",
       "                                          flickr_url    id_y  \n",
       "0  http://farm5.staticflickr.com/4029/4669549715_...  289343  \n",
       "1  http://farm5.staticflickr.com/4029/4669549715_...  289343  \n",
       "2  http://farm5.staticflickr.com/4029/4669549715_...  289343  \n",
       "3  http://farm5.staticflickr.com/4029/4669549715_...  289343  \n",
       "4  http://farm1.staticflickr.com/11/12252917_d009...   61471  "
      ]
     },
     "execution_count": 8,
     "metadata": {},
     "output_type": "execute_result"
    }
   ],
   "source": [
    "all_valid.head()"
   ]
  },
  {
   "attachments": {},
   "cell_type": "markdown",
   "metadata": {},
   "source": [
    "# PROCESSING CLasses\n"
   ]
  },
  {
   "cell_type": "code",
   "execution_count": 9,
   "metadata": {},
   "outputs": [
    {
     "name": "stdout",
     "output_type": "stream",
     "text": [
      "(80,)\n",
      "(80,)\n"
     ]
    }
   ],
   "source": [
    "print(all_train['category_id'].unique().shape)\n",
    "print(all_valid['category_id'].unique().shape)"
   ]
  },
  {
   "cell_type": "code",
   "execution_count": 10,
   "metadata": {},
   "outputs": [
    {
     "name": "stdout",
     "output_type": "stream",
     "text": [
      "20\n"
     ]
    }
   ],
   "source": [
    "coco_classes = all_train['category_id'].unique()\n",
    "split1 = coco_classes[[(i-1) for i in [1,5,9,13,17,21,25,29,33,37,41,45,49,53,57,61,65,69,73,77]]]\n",
    "#split2 = coco_classes[[(i-1) for i in [2,6,10,14,18,22,26,30,34,38,42,46,50,54,58,62,66,70,74,78]]]\n",
    "#split3 = coco_classes[[(i-1) for i in [3,7,11,15,19,23,27,31,35,39,43,47,51,55,59,63,67,71,75,79]]]\n",
    "#split4 =coco_classes[[(i-1) for i in  [4,8,12,16,20,24,28,32,36,40,44,48,52,56,60,64,68,72,76,80]]]\n",
    "\n",
    "print(len(split1))#,len(split2),len(split3),len(split4))"
   ]
  },
  {
   "cell_type": "code",
   "execution_count": 11,
   "metadata": {},
   "outputs": [],
   "source": [
    "split1_train = all_train[-all_train['category_id'].isin(split1)]\n",
    "#split2_train = all_train[-all_train['category_id'].isin(split2)]\n",
    "#split3_train = all_train[-all_train['category_id'].isin(split3)]\n",
    "#split4_train = all_train[-all_train['category_id'].isin(split4)]\n",
    "\n",
    "split1_valid = all_valid[all_valid['category_id'].isin(split1)]\n",
    "#split2_valid = all_valid[all_valid['category_id'].isin(split2)]\n",
    "#split3_valid = all_valid[all_valid['category_id'].isin(split3)]\n",
    "#split4_valid = all_valid[all_valid['category_id'].isin(split4)]\n"
   ]
  },
  {
   "attachments": {},
   "cell_type": "markdown",
   "metadata": {},
   "source": [
    "# PROCESSING JSON"
   ]
  },
  {
   "cell_type": "code",
   "execution_count": 12,
   "metadata": {},
   "outputs": [
    {
     "name": "stdout",
     "output_type": "stream",
     "text": [
      "(60,)\n",
      "(20,)\n"
     ]
    }
   ],
   "source": [
    "print(split1_train['category_id'].unique().shape)\n",
    "print(split1_valid['category_id'].unique().shape)\n",
    "\n",
    "# print(split2_train['category_id'].unique().shape)\n",
    "# print(split2_valid['category_id'].unique().shape)\n",
    "\n",
    "# print(split3_train['category_id'].unique().shape)\n",
    "# print(split3_valid['category_id'].unique().shape)\n",
    "\n",
    "# print(split4_train['category_id'].unique().shape)\n",
    "# print(split4_valid['category_id'].unique().shape)"
   ]
  },
  {
   "cell_type": "code",
   "execution_count": 13,
   "metadata": {},
   "outputs": [
    {
     "data": {
      "text/plain": [
       "array(['person', 'bicycle', 'car', 'motorcycle', 'airplane', 'bus',\n",
       "       'train', 'truck', 'boat', 'traffic light', 'fire hydrant',\n",
       "       'stop sign', 'parking meter', 'bench', 'bird', 'cat', 'dog',\n",
       "       'horse', 'sheep', 'cow', 'elephant', 'bear', 'zebra', 'giraffe',\n",
       "       'backpack', 'umbrella', 'handbag', 'tie', 'suitcase', 'frisbee',\n",
       "       'skis', 'snowboard', 'sports ball', 'kite', 'baseball bat',\n",
       "       'baseball glove', 'skateboard', 'surfboard', 'tennis racket',\n",
       "       'bottle', 'wine glass', 'cup', 'fork', 'knife', 'spoon', 'bowl',\n",
       "       'banana', 'apple', 'sandwich', 'orange', 'broccoli', 'carrot',\n",
       "       'hot dog', 'pizza', 'donut', 'cake', 'chair', 'couch',\n",
       "       'potted plant', 'bed', 'dining table', 'toilet', 'tv', 'laptop',\n",
       "       'mouse', 'remote', 'keyboard', 'cell phone', 'microwave', 'oven',\n",
       "       'toaster', 'sink', 'refrigerator', 'book', 'clock', 'vase',\n",
       "       'scissors', 'teddy bear', 'hair drier', 'toothbrush'], dtype=object)"
      ]
     },
     "execution_count": 13,
     "metadata": {},
     "output_type": "execute_result"
    }
   ],
   "source": [
    "category['name'].unique()"
   ]
  },
  {
   "cell_type": "code",
   "execution_count": 14,
   "metadata": {},
   "outputs": [
    {
     "data": {
      "text/plain": [
       "([<matplotlib.axis.YTick at 0x7ff1cb15a490>,\n",
       "  <matplotlib.axis.YTick at 0x7ff1cb140cd0>,\n",
       "  <matplotlib.axis.YTick at 0x7ff1cb140190>,\n",
       "  <matplotlib.axis.YTick at 0x7ff1cb0b5730>,\n",
       "  <matplotlib.axis.YTick at 0x7ff1cb0b5e80>,\n",
       "  <matplotlib.axis.YTick at 0x7ff1cb0c7610>,\n",
       "  <matplotlib.axis.YTick at 0x7ff1cb0fb880>,\n",
       "  <matplotlib.axis.YTick at 0x7ff1cb0c7c40>,\n",
       "  <matplotlib.axis.YTick at 0x7ff1cb0d03d0>,\n",
       "  <matplotlib.axis.YTick at 0x7ff1cb0d0b20>,\n",
       "  <matplotlib.axis.YTick at 0x7ff1cb0d32b0>,\n",
       "  <matplotlib.axis.YTick at 0x7ff1cb0d3a00>,\n",
       "  <matplotlib.axis.YTick at 0x7ff1cb0d3cd0>,\n",
       "  <matplotlib.axis.YTick at 0x7ff1cb0d0be0>,\n",
       "  <matplotlib.axis.YTick at 0x7ff1cb0b57f0>,\n",
       "  <matplotlib.axis.YTick at 0x7ff1cb0dc6a0>,\n",
       "  <matplotlib.axis.YTick at 0x7ff1cb0dcdf0>,\n",
       "  <matplotlib.axis.YTick at 0x7ff1cb0e2580>,\n",
       "  <matplotlib.axis.YTick at 0x7ff1cb0e2cd0>,\n",
       "  <matplotlib.axis.YTick at 0x7ff1cb0e2dc0>],\n",
       " [Text(0, 0, 'person'),\n",
       "  Text(0, 1, 'airplane'),\n",
       "  Text(0, 2, 'boat'),\n",
       "  Text(0, 3, 'parking meter'),\n",
       "  Text(0, 4, 'dog'),\n",
       "  Text(0, 5, 'elephant'),\n",
       "  Text(0, 6, 'backpack'),\n",
       "  Text(0, 7, 'suitcase'),\n",
       "  Text(0, 8, 'sports ball'),\n",
       "  Text(0, 9, 'skateboard'),\n",
       "  Text(0, 10, 'wine glass'),\n",
       "  Text(0, 11, 'spoon'),\n",
       "  Text(0, 12, 'sandwich'),\n",
       "  Text(0, 13, 'hot dog'),\n",
       "  Text(0, 14, 'chair'),\n",
       "  Text(0, 15, 'dining table'),\n",
       "  Text(0, 16, 'mouse'),\n",
       "  Text(0, 17, 'microwave'),\n",
       "  Text(0, 18, 'refrigerator'),\n",
       "  Text(0, 19, 'scissors')])"
      ]
     },
     "execution_count": 14,
     "metadata": {},
     "output_type": "execute_result"
    },
    {
     "data": {
      "image/png": "[encoded data removed]",
      "text/plain": [
       "<Figure size 640x480 with 1 Axes>"
      ]
     },
     "metadata": {},
     "output_type": "display_data"
    }
   ],
   "source": [
    "plt.figure()\n",
    "\n",
    "label = np.arange(len(split1_valid['category_id'].unique()))\n",
    "l = [(i-1) for i in [1,5,9,13,17,21,25,29,33,37,41,45,49,53,57,61,65,69,73,77]]\n",
    "names = category['name'].unique()[l]\n",
    "\n",
    "plt.barh(label, split1_valid['category_id'].value_counts())\n",
    "plt.yticks(label, names)\n"
   ]
  },
  {
   "cell_type": "code",
   "execution_count": 15,
   "metadata": {},
   "outputs": [
    {
     "data": {
      "text/plain": [
       "107052"
      ]
     },
     "execution_count": 15,
     "metadata": {},
     "output_type": "execute_result"
    }
   ],
   "source": [
    "len(split1_train['file_name'].unique())"
   ]
  },
  {
   "cell_type": "markdown",
   "metadata": {},
   "source": [
    "# Base on DANA support IMAGE"
   ]
  },
  {
   "cell_type": "code",
   "execution_count": 16,
   "metadata": {},
   "outputs": [],
   "source": [
    "#!wget -O support.zip \"https://drive.google.com/uc?export=download&id=1nl9-DEpBBJ5w6hxVdijY6hFxoQdz8aso&confirm=yes\""
   ]
  },
  {
   "cell_type": "code",
   "execution_count": 17,
   "metadata": {},
   "outputs": [],
   "source": [
    "#!unzip support.zip"
   ]
  },
  {
   "cell_type": "code",
   "execution_count": 18,
   "metadata": {},
   "outputs": [
    {
     "data": {
      "text/html": [
       "<div>\n",
       "<style scoped>\n",
       "    .dataframe tbody tr th:only-of-type {\n",
       "        vertical-align: middle;\n",
       "    }\n",
       "\n",
       "    .dataframe tbody tr th {\n",
       "        vertical-align: top;\n",
       "    }\n",
       "\n",
       "    .dataframe thead th {\n",
       "        text-align: right;\n",
       "    }\n",
       "</style>\n",
       "<table border=\"1\" class=\"dataframe\">\n",
       "  <thead>\n",
       "    <tr style=\"text-align: right;\">\n",
       "      <th></th>\n",
       "      <th>supercategory</th>\n",
       "      <th>id</th>\n",
       "      <th>name</th>\n",
       "    </tr>\n",
       "  </thead>\n",
       "  <tbody>\n",
       "    <tr>\n",
       "      <th>0</th>\n",
       "      <td>person</td>\n",
       "      <td>1</td>\n",
       "      <td>person</td>\n",
       "    </tr>\n",
       "    <tr>\n",
       "      <th>1</th>\n",
       "      <td>vehicle</td>\n",
       "      <td>2</td>\n",
       "      <td>bicycle</td>\n",
       "    </tr>\n",
       "    <tr>\n",
       "      <th>2</th>\n",
       "      <td>vehicle</td>\n",
       "      <td>3</td>\n",
       "      <td>car</td>\n",
       "    </tr>\n",
       "    <tr>\n",
       "      <th>3</th>\n",
       "      <td>vehicle</td>\n",
       "      <td>4</td>\n",
       "      <td>motorcycle</td>\n",
       "    </tr>\n",
       "    <tr>\n",
       "      <th>4</th>\n",
       "      <td>vehicle</td>\n",
       "      <td>5</td>\n",
       "      <td>airplane</td>\n",
       "    </tr>\n",
       "  </tbody>\n",
       "</table>\n",
       "</div>"
      ],
      "text/plain": [
       "  supercategory  id        name\n",
       "0        person   1      person\n",
       "1       vehicle   2     bicycle\n",
       "2       vehicle   3         car\n",
       "3       vehicle   4  motorcycle\n",
       "4       vehicle   5    airplane"
      ]
     },
     "execution_count": 18,
     "metadata": {},
     "output_type": "execute_result"
    }
   ],
   "source": [
    "category.head()"
   ]
  },
  {
   "cell_type": "code",
   "execution_count": 19,
   "metadata": {},
   "outputs": [],
   "source": [
    "from PIL import Image, ImageOps\n",
    "\n",
    "def resize_with_padding(img, expected_size):\n",
    "    width, height = img.size\n",
    "    ratio = width / height\n",
    "    if width < height:\n",
    "        img = img.resize((int(ratio*expected_size[0]),int(expected_size[0])))\n",
    "    else:\n",
    "        img = img.resize((int(expected_size[1]),int((1/ratio)*expected_size[1])))\n",
    "        \n",
    "    img.thumbnail((expected_size[0], expected_size[1]))\n",
    "    delta_width = expected_size[0] - img.size[0]\n",
    "    delta_height = expected_size[1] - img.size[1]\n",
    "    pad_width = delta_width // 2\n",
    "    pad_height = delta_height // 2\n",
    "    padding = (pad_width, pad_height, delta_width - pad_width, delta_height - pad_height)\n",
    "    return ImageOps.expand(img, padding)\n"
   ]
  },
  {
   "cell_type": "code",
   "execution_count": 20,
   "metadata": {},
   "outputs": [],
   "source": [
    "#TODO support for train:\n",
    "import glob\n",
    "\n",
    "def saveSupport(path):\n",
    "    for row in tqdm(category.iloc(),total=len(category)):\n",
    "        name = row['name']\n",
    "        c = row['id']\n",
    "        liste = glob.glob('supports/all/'+name+'/*')\n",
    "        f = liste[0]\n",
    "        image = Image.open(f)\n",
    "        image = resize_with_padding(image, (640,640))\n",
    "        image.save(path+str(c)+'.png')"
   ]
  },
  {
   "cell_type": "code",
   "execution_count": 21,
   "metadata": {},
   "outputs": [
    {
     "name": "stderr",
     "output_type": "stream",
     "text": [
      "100%|██████████| 80/80 [00:11<00:00,  6.97it/s]\n"
     ]
    }
   ],
   "source": [
    "saveSupport('COCO1/support/images/')"
   ]
  },
  {
   "cell_type": "code",
   "execution_count": 22,
   "metadata": {},
   "outputs": [],
   "source": [
    "def saveImage(pd, folder, path):\n",
    "    list_image = pd['file_name'].unique()\n",
    "    for name in tqdm(list_image):\n",
    "        image = Image.open(PATH+folder+name)\n",
    "        for c in pd.loc[pd['file_name'] == name]['category_id'].unique():\n",
    "            image = resize_with_padding(image, (640,640))\n",
    "            image.save(path+name[:-4]+'.'+str(c)+'.png')\n",
    "        "
   ]
  },
  {
   "cell_type": "code",
   "execution_count": 23,
   "metadata": {},
   "outputs": [
    {
     "name": "stderr",
     "output_type": "stream",
     "text": [
      "100%|██████████| 160/160 [00:52<00:00,  3.07it/s]\n",
      "100%|██████████| 54/54 [00:09<00:00,  5.85it/s]\n"
     ]
    }
   ],
   "source": [
    "saveImage(split1_train[:1000],'train2017/','COCO1/train/images/')\n",
    "saveImage(split1_valid[:100],'val2017/','COCO1/valid/images/')"
   ]
  },
  {
   "cell_type": "code",
   "execution_count": 24,
   "metadata": {},
   "outputs": [],
   "source": [
    "# saveImage(split2_train,'train2017/','COCO2/train/images/')\n",
    "# saveImage(split2_valid,'val2017/','COCO2/valid/images/')"
   ]
  },
  {
   "cell_type": "code",
   "execution_count": 25,
   "metadata": {},
   "outputs": [],
   "source": [
    "# saveImage(split3_train,'train2017/','COCO3/train/images/')\n",
    "# saveImage(split3_valid,'val2017/','COCO3/valid/images/')"
   ]
  },
  {
   "cell_type": "code",
   "execution_count": 26,
   "metadata": {},
   "outputs": [],
   "source": [
    "# saveImage(split4_train,'train2017/','COCO4/train/images/')\n",
    "# saveImage(split4_valid,'val2017/','COCO4/valid/images/')"
   ]
  },
  {
   "cell_type": "code",
   "execution_count": 27,
   "metadata": {},
   "outputs": [],
   "source": [
    "def resize_label_with_padding(old_size, expected_size, bbox):\n",
    "    (x,y,w,h) = bbox\n",
    "\n",
    "    ratio = old_size[0] / old_size[1]\n",
    "    if old_size[0] < old_size[1]:\n",
    "        new = (int(ratio*expected_size[0]),int(expected_size[0]))\n",
    "    else:\n",
    "        new = (int(expected_size[1]),int((1/ratio)*expected_size[1]))\n",
    "\n",
    "    delta_width = expected_size[0] - new[0]\n",
    "    delta_height = expected_size[1] - new[1]\n",
    "\n",
    "    pad_width = delta_width // 2\n",
    "    pad_height = delta_height // 2\n",
    "\n",
    "    x_t = (pad_width +  (x/old_size[0])*new[0] + ((w/old_size[0])*new[0])/2 ) / expected_size[0]\n",
    "    y_t = (pad_height + (y/old_size[1])*new[1] + ((h/old_size[1])*new[1])/2) / expected_size[1]\n",
    "    w_t = (w/old_size[0])*new[0] / expected_size[0]\n",
    "    h_t = (h/old_size[1])*new[1] / expected_size[1]\n",
    "    \n",
    "    return x_t,y_t,w_t,h_t"
   ]
  },
  {
   "cell_type": "code",
   "execution_count": 28,
   "metadata": {},
   "outputs": [],
   "source": [
    "def savetxt(pd, path):\n",
    "    list_image = pd['file_name'].unique()\n",
    "    for name in tqdm(list_image):\n",
    "        for c in pd.loc[pd['file_name'] == name]['category_id'].unique():\n",
    "            annotation = pd.loc[pd['file_name'] == name]\n",
    "            annotation = annotation[annotation['category_id'] == c]\n",
    "            bbox = annotation['bbox']\n",
    "\n",
    "            with open(path+name[:-4]+'.'+str(c)+'.txt', 'a') as f:\n",
    "                for box,width,height in zip(bbox,annotation['width'],annotation['height']):\n",
    "                    x,y,w,h = resize_label_with_padding((width,height), (640,640), box)\n",
    "                    s = '0'+' '+str(x)+' '+str(y)+' '+str(w)+' '+str(h)+' \\n'\n",
    "                    f.write(s)"
   ]
  },
  {
   "cell_type": "code",
   "execution_count": 29,
   "metadata": {},
   "outputs": [
    {
     "name": "stderr",
     "output_type": "stream",
     "text": [
      "100%|██████████| 160/160 [00:00<00:00, 261.41it/s]\n",
      "100%|██████████| 54/54 [00:00<00:00, 450.93it/s]\n"
     ]
    }
   ],
   "source": [
    "savetxt(split1_train[:1000],'COCO1/train/labels/')\n",
    "savetxt(split1_valid[:100],'COCO1/valid/labels/')"
   ]
  },
  {
   "cell_type": "code",
   "execution_count": 30,
   "metadata": {},
   "outputs": [],
   "source": [
    "# savetxt(split2_train,'COCO2/train/labels/')\n",
    "# savetxt(split2_valid,'COCO2/valid/labels/')"
   ]
  },
  {
   "cell_type": "code",
   "execution_count": 31,
   "metadata": {},
   "outputs": [],
   "source": [
    "# savetxt(split3_train,'COCO3/train/labels/')\n",
    "# savetxt(split3_valid,'COCO3/valid/labels/')"
   ]
  },
  {
   "cell_type": "code",
   "execution_count": 32,
   "metadata": {},
   "outputs": [],
   "source": [
    "# savetxt(split4_train,'COCO4/train/labels/')\n",
    "# savetxt(split4_valid,'COCO4/valid/labels/')"
   ]
  },
  {
   "cell_type": "code",
   "execution_count": 33,
   "metadata": {},
   "outputs": [],
   "source": [
    "with open('COCO1/data.yaml', 'a') as f:\n",
    "    f.write('train: ../train/images \\n')\n",
    "    f.write('val: ../valid/images \\n')\n",
    "    f.write('support: ../support/images \\n')\n",
    "    f.write(' \\n')\n",
    "    f.write('nc: 1 \\n')\n",
    "    f.write('names: [\\'object\\']')"
   ]
  },
  {
   "cell_type": "code",
   "execution_count": 34,
   "metadata": {},
   "outputs": [],
   "source": [
    "# with open('COCO2/data.yaml', 'a') as f:\n",
    "#     f.write('train: ../train/images \\n')\n",
    "#     f.write('val: ../valid/images \\n')\n",
    "#     f.write('support: ../support/images \\n')\n",
    "#     f.write(' \\n')\n",
    "#     f.write('nc: 1 \\n')\n",
    "#     f.write('names: [\\'object\\']')"
   ]
  },
  {
   "cell_type": "code",
   "execution_count": 35,
   "metadata": {},
   "outputs": [],
   "source": [
    "# with open('COCO3/data.yaml', 'a') as f:\n",
    "#     f.write('train: ../train/images \\n')\n",
    "#     f.write('val: ../valid/images \\n')\n",
    "#     f.write('support: ../support/images \\n')\n",
    "#     f.write(' \\n')\n",
    "#     f.write('nc: 1 \\n')\n",
    "#     f.write('names: [\\'object\\']')"
   ]
  },
  {
   "cell_type": "code",
   "execution_count": 36,
   "metadata": {},
   "outputs": [],
   "source": [
    "# with open('COCO4/data.yaml', 'a') as f:\n",
    "#     f.write('train: ../train/images \\n')\n",
    "#     f.write('val: ../valid/images \\n')\n",
    "#     f.write('support: ../support/images \\n')\n",
    "#     f.write(' \\n')\n",
    "#     f.write('nc: 1 \\n')\n",
    "#     f.write('names: [\\'object\\']')"
   ]
  },
  {
   "cell_type": "code",
   "execution_count": null,
   "metadata": {},
   "outputs": [],
   "source": []
  },
  {
   "cell_type": "code",
   "execution_count": null,
   "metadata": {},
   "outputs": [],
   "source": []
  }
 ],
 "metadata": {
  "kernelspec": {
   "display_name": "Python 3.8.10 64-bit",
   "language": "python",
   "name": "python3"
  },
  "language_info": {
   "codemirror_mode": {
    "name": "ipython",
    "version": 3
   },
   "file_extension": ".py",
   "mimetype": "text/x-python",
   "name": "python",
   "nbconvert_exporter": "python",
   "pygments_lexer": "ipython3",
   "version": "3.8.10"
  },
  "orig_nbformat": 4,
  "vscode": {
   "interpreter": {
    "hash": "916dbcbb3f70747c44a77c7bcd40155683ae19c65e1c03b4aa3499c5328201f1"
   }
  }
 },
 "nbformat": 4,
 "nbformat_minor": 2
}
